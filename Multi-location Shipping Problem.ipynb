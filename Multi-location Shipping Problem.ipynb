{
 "cells": [
  {
   "cell_type": "code",
   "execution_count": 1,
   "metadata": {},
   "outputs": [],
   "source": [
    "import numpy as np\n",
    "import pandas as pd\n",
    "import matplotlib.pyplot as plt\n",
    "import itertools\n",
    "from scipy.stats import norm, sem\n",
    "import scipy.stats as st\n",
    "import random\n",
    "import pulp\n",
    "from datetime import datetime\n",
    "from scipy import stats"
   ]
  },
  {
   "cell_type": "code",
   "execution_count": 2,
   "metadata": {},
   "outputs": [],
   "source": [
    "def timer(start_time=None):\n",
    "    if not start_time:\n",
    "        start_time = datetime.now()\n",
    "        return start_time\n",
    "    elif start_time:\n",
    "        thour, temp_sec = divmod((datetime.now() - start_time).total_seconds(), 3600)\n",
    "        tmin, tsec = divmod(temp_sec, 60)\n",
    "        print('\\n Time taken: %i hours %i minutes and %s seconds.' % (thour, tmin, round(tsec, 2)))"
   ]
  },
  {
   "cell_type": "markdown",
   "metadata": {},
   "source": [
    "# All-in-one"
   ]
  },
  {
   "cell_type": "code",
   "execution_count": 3,
   "metadata": {},
   "outputs": [],
   "source": [
    "# set up the optimization problem\n",
    "Trans = pulp.LpProblem(\"Transshipment_Problem\", pulp.LpMinimize)"
   ]
  },
  {
   "cell_type": "code",
   "execution_count": 4,
   "metadata": {},
   "outputs": [],
   "source": [
    "# the number of stores\n",
    "store = [1, 2, 3, 4, 5, 6, 7]\n",
    "n = len(store)\n",
    "\n",
    "# the number of scenarios\n",
    "scenario = list(range(1, 3**7 + 1))\n",
    "ns = len(scenario)"
   ]
  },
  {
   "cell_type": "code",
   "execution_count": 5,
   "metadata": {},
   "outputs": [],
   "source": [
    "# 3^7 scenarios\n",
    "# stochastic parameter ---> demand of each store\n",
    "mu = pulp.makeDict([store], [100, 200, 150, 170, 180, 170, 170], 0)\n",
    "sigma = pulp.makeDict([store], [20, 50, 30, 50, 40, 30, 50], 0)\n",
    "\n",
    "d0 = [stats.norm.ppf(q = [0.25, 0.5, 0.75], loc = mu[i], scale = sigma[i]).tolist() for i in range(1,8)]\n",
    "d1 = list(itertools.product(d0[0], d0[1], d0[2], d0[3], d0[4], d0[5], d0[6]))\n",
    "d = [list(i) for i in d1]\n",
    "d = pulp.makeDict([scenario, store], d, 0)"
   ]
  },
  {
   "cell_type": "code",
   "execution_count": 6,
   "metadata": {},
   "outputs": [],
   "source": [
    "# set up fixed parameters\n",
    "\n",
    "# 7 stores replenishment cost\n",
    "Cr = [0, 0, 0, 0, 0, 0, 0]\n",
    "Cr = pulp.makeDict([store], Cr, 0)\n",
    "\n",
    "# 7 stores holding inventory cost\n",
    "h = [[1, 1, 1, 1, 1, 1, 1]] * ns\n",
    "h = pulp.makeDict([scenario, store], h, 0)\n",
    "\n",
    "# transshipment routes from i to j\n",
    "routes = [(k, i, j) for k in scenario for i in store for j in store]\n",
    "\n",
    "# transshipment cost from retailer i to j\n",
    "c = np.ones((ns, n, n)) * 0.5\n",
    "for i in range(ns):\n",
    "    np.fill_diagonal(c[i], 0)\n",
    "c = c.tolist()\n",
    "c = pulp.makeDict([scenario, store, store], c, 0)\n",
    "\n",
    "# 7 stores penalty for shortage after replenishment\n",
    "p = [[4, 4, 4, 4, 4, 4, 4]] * ns\n",
    "p = pulp.makeDict([scenario, store], p, 0)\n"
   ]
  },
  {
   "cell_type": "code",
   "execution_count": 7,
   "metadata": {},
   "outputs": [],
   "source": [
    "# set up variables\n",
    "\n",
    "# 7 stores supply\n",
    "s = pulp.LpVariable.dicts(\"s\", store, 0, None, pulp.LpInteger)\n",
    "\n",
    "# 7 stores ending inventory\n",
    "e = pulp.LpVariable.dicts(\"e\", (scenario, store), 0, None, pulp.LpInteger)\n",
    "\n",
    "# 7 stores shortage after transshipment\n",
    "r = pulp.LpVariable.dicts(\"r\", (scenario, store), 0, None, pulp.LpInteger)\n",
    "\n",
    "# 7 stores shortage met by transshipment ---> stock at i used to meet demand of j\n",
    "t = pulp.LpVariable.dicts(\"t\", (scenario, store, store), 0, None, pulp.LpInteger)\n",
    "\n",
    "# 7 stores shortage met by itself ---> stock at i used to meet demand of i\n",
    "f = pulp.LpVariable.dicts(\"f\", (scenario, store), 0, None, pulp.LpInteger)\n",
    "\n",
    "# inventory at store i increased through replenishment\n",
    "q = pulp.LpVariable.dicts(\"q\", (scenario, store), 0, None, pulp.LpInteger)"
   ]
  },
  {
   "cell_type": "code",
   "execution_count": 8,
   "metadata": {},
   "outputs": [],
   "source": [
    "# objective function\n",
    "Trans += (\n",
    "    pulp.lpSum(\n",
    "        [Cr[i] * s[i] for i in store] +\n",
    "        [(1/ns) * h[k][i] * e[k][i] for k in scenario for i in store] +\n",
    "        [(1/ns) * t[k][i][j] * c[k][i][j] for (k, i, j) in routes] + \n",
    "        [(1/ns) * p[k][i] * r[k][i] for k in scenario for i in store]    \n",
    "    ),\n",
    "    \"Sum_of_Cost\"\n",
    ")"
   ]
  },
  {
   "cell_type": "code",
   "execution_count": 9,
   "metadata": {},
   "outputs": [],
   "source": [
    "# constraits\n",
    "\n",
    "# used stock of i + inventory of i == spply of i\n",
    "for k in scenario:\n",
    "    for i in store:\n",
    "        Trans += (\n",
    "            pulp.lpSum(f[k][i] + e[k][i] + [t[k][i][j] for j in store] - t[k][i][i]) == s[i],\n",
    "            \"usedstock_inventory_supply_%s\" %str(k)+str(i)\n",
    "        )\n",
    "\n",
    "# be met demand of i + shortage after replenishment of i == demand of i\n",
    "for k in scenario:\n",
    "    for i in store:\n",
    "        Trans += (\n",
    "            pulp.lpSum(f[k][i] + r[k][i] + [t[k][j][i] for j in store] - t[k][i][i]) == d[k][i],\n",
    "            \"demandmet_shortage_demand_%s\" %str(k)+str(i)\n",
    "        )\n",
    "        \n",
    "# total shortage after replenishment + total inventory increased through replenishment == total demand\n",
    "for k in scenario:\n",
    "    Trans += (\n",
    "        pulp.lpSum([r[k][i] for i in store]) + pulp.lpSum([q[k][i] for i in store]) == pulp.lpSum([d[k][i] for i in store]),\n",
    "        \"shortage_replenishment_demand_%s\" %str(k)+str(i)\n",
    "        )\n",
    "\n",
    "# be met demand of i + shortage after replenishment of i == demand of i\n",
    "for k in scenario:\n",
    "    for i in store:\n",
    "        Trans += (\n",
    "            e[k][i] + q[k][i] == s[i],\n",
    "            \"inventory_add_%s\" %str(k)+str(i)\n",
    "        )"
   ]
  },
  {
   "cell_type": "code",
   "execution_count": 10,
   "metadata": {},
   "outputs": [
    {
     "name": "stdout",
     "output_type": "stream",
     "text": [
      "\n",
      " Time taken: 0 hours 54 minutes and 10.55 seconds.\n"
     ]
    }
   ],
   "source": [
    "# solve the problem\n",
    "start_time = timer(None)\n",
    "status = Trans.solve()\n",
    "timer(start_time)"
   ]
  },
  {
   "cell_type": "code",
   "execution_count": null,
   "metadata": {},
   "outputs": [],
   "source": [
    "# Each of the supply is printed with it's resolved optimum value\n",
    "for v in Trans.variables():\n",
    "    if str(v).startswith('s'):\n",
    "        print(v.name, \"=\", round(v.varValue))\n",
    "\n",
    "# The optimised objective function value is printed to the screen    \n",
    "print(\"Total Cost of Transportation = \", pulp.value(Trans.objective))"
   ]
  },
  {
   "cell_type": "markdown",
   "metadata": {},
   "source": [
    "# Stochastic Approximation"
   ]
  },
  {
   "cell_type": "markdown",
   "metadata": {},
   "source": [
    "## Basic - Define Function"
   ]
  },
  {
   "cell_type": "code",
   "execution_count": 11,
   "metadata": {},
   "outputs": [],
   "source": [
    "def variables_determined():\n",
    "    global N, S0, h, c, C, p, mu, std, log\n",
    "    # number of retailers in paper2 \n",
    "    N = 7\n",
    "\n",
    "    # total number of steps for each SGD path\n",
    "    # K = 500\n",
    "    # number of independent replications at each step\n",
    "    # U = 50\n",
    "\n",
    "    # replenishment cost in first stage\n",
    "    c = np.array([0.0]*N)\n",
    "    # holding inventory cost for retailers (vector)\n",
    "    h = np.array([1.0]*N)\n",
    "    # transshipment cost from retailer i to j (matrix)\n",
    "    C = np.ones((N, N))*0.5\n",
    "    np.fill_diagonal(C, 0)\n",
    "    # penalty cost for retailers (vector)\n",
    "    p = np.array([4.0]*N)\n",
    "    #p = np.array([10.0]*N)\n",
    "\n",
    "    # distribution of demands for retailers in TA code (vector)\n",
    "    mu = np.array([100.0, 200, 150, 170, 180, 170, 170])\n",
    "    std = np.array([20.0, 50, 30, 50, 40, 30, 50])\n",
    "\n",
    "    # initialize order-up-to level as mean (vector)\n",
    "    S0 = np.array([100.0, 200, 150, 170, 180, 170, 170])\n",
    "    #S0 = np.array([0.0]*N)\n",
    "    # log process\n",
    "    log = True\n",
    "\n",
    "    return N, S0, h, c, C, p, mu, std, log"
   ]
  },
  {
   "cell_type": "code",
   "execution_count": 12,
   "metadata": {},
   "outputs": [],
   "source": [
    "def variables_random(mean, std):\n",
    "    # at each step, generate random demand for retailers (vector)\n",
    "    # within [mean-3std, mean+3std]\n",
    "    D = np.random.normal(loc=mean, scale=std)\n",
    "    for i in range(len(D)):\n",
    "        if D[i] < mean[i]-3*std[i] or D[i] > mean[i]+3*std[i]:\n",
    "            return variables_random(mean, std)\n",
    "\n",
    "    probs = norm.pdf(D, loc=mean, scale=std)\n",
    "    prob = 1\n",
    "    for p in probs:\n",
    "        prob = prob * p * 100\n",
    "        \n",
    "    return D, prob"
   ]
  },
  {
   "cell_type": "code",
   "execution_count": 13,
   "metadata": {},
   "outputs": [],
   "source": [
    "def get_dtc(S, D):\n",
    "    # S: order-up-to (vector)\n",
    "    # D: demand (vector)\n",
    "    # h: holding cost (vector)\n",
    "    # C: transshipment cost (matrix)\n",
    "    # p: penalty cost (vector)\n",
    "    # N: number of retailers (number)\n",
    "\n",
    "    # variables: B, M, R, E\n",
    "    B = pulp.LpVariable.dicts(\"B\",((i)for i in range(N)),cat='Continuous')\n",
    "    M = pulp.LpVariable.dicts(\"M\",((i)for i in range(N)),cat='Continuous')\n",
    "    E = pulp.LpVariable.dicts(\"E\",((i)for i in range(N)),cat='Continuous')\n",
    "    R = pulp.LpVariable(\"R\", cat='Continuous')\n",
    "    # objective\n",
    "    model = pulp.LpProblem('stochas', pulp.LpMaximize)\n",
    "    model += (pulp.lpSum([S[i]*B[i] + D[i]*M[i] + D[i]*R + S[i]*E[i] for i in range(N)]), \"objective\")\n",
    "    # constraints\n",
    "    for i in range(N):\n",
    "        model += (B[i] + E[i] <= h[i])\n",
    "        model += (B[i] + M[i] <= 0)\n",
    "        model += (M[i] + R <= p[i])\n",
    "        model += (R + E[i] <= 0)\n",
    "        for j in range(N):\n",
    "            if i != j:\n",
    "                model += (B[i] + M[j] <= C[i][j])\n",
    "    # solver\n",
    "    model.solve()\n",
    "    pulp.LpStatus[model.status]\n",
    "    # return B + E\n",
    "    second_obj_value = pulp.value(model.objective)\n",
    "    dTC = []\n",
    "    for i in range(N):\n",
    "        B[i] = B[i].varValue\n",
    "        E[i] = E[i].varValue\n",
    "        dTC.append(B[i] + E[i])\n",
    "    return np.array(dTC), second_obj_value"
   ]
  },
  {
   "cell_type": "code",
   "execution_count": 14,
   "metadata": {},
   "outputs": [],
   "source": [
    "def get_averaged_dtc(S, U):\n",
    "    total_dTC = np.array([0.0]*N)\n",
    "    total_probs = 0\n",
    "    # expected cost of second stage\n",
    "    expected_h = 0\n",
    "    for _ in range(U):\n",
    "        D, prob = variables_random(mu, std)\n",
    "        dTC, second_obj_value = get_dtc(S, D)\n",
    "        total_probs += prob\n",
    "        total_dTC += dTC\n",
    "        expected_h += second_obj_value * prob\n",
    "    dTC_avg = total_dTC / U\n",
    "    expected_h = expected_h / total_probs\n",
    "    return dTC_avg, expected_h"
   ]
  },
  {
   "cell_type": "code",
   "execution_count": 15,
   "metadata": {},
   "outputs": [],
   "source": [
    "def projection(S):\n",
    "    for i in range(len(S)):\n",
    "        if S[i] < 0:\n",
    "            S[i] = 0\n",
    "    return S"
   ]
  },
  {
   "cell_type": "code",
   "execution_count": 16,
   "metadata": {},
   "outputs": [],
   "source": [
    "def main(K, U, size_c):\n",
    "    # determined variables\n",
    "    N, S0, h, c, C, p, mu, std, log = variables_determined()\n",
    "    # initialize K\n",
    "    k = 1\n",
    "    # initialize order-up-to S\n",
    "    S = S0\n",
    "\n",
    "    while k <= K:\n",
    "        subgradient, expected_h = get_averaged_dtc(S, U)\n",
    "        # update order-up-to S\n",
    "        step_wise = size_c / k\n",
    "        S = S - step_wise*subgradient\n",
    "        # project between lower and upper bound\n",
    "        S = projection(S)\n",
    "      \n",
    "        # first stage optimal cost: replenishment cost and second stage cost\n",
    "        first_obj_value = round(np.sum(c*S) + expected_h, 4)\n",
    "\n",
    "        # log process\n",
    "        if log and k % 10 == 0:\n",
    "            print(f'Iteration   :', k)\n",
    "            # print(f'Current second stage expected cost: ', expected_h)\n",
    "            print(f'Current cost:', first_obj_value)\n",
    "            # print(f'Lowest cost :', first_obj_best)\n",
    "            print('--------------------------------------------------------')\n",
    "\n",
    "        k += 1\n",
    "    \n",
    "    print(f'Final objective value: ', first_obj_value)\n",
    "    print(f'Final order-up-to S:   ', np.round(S, 4))\n",
    "      \n",
    "    # return first_obj_value, S"
   ]
  },
  {
   "cell_type": "code",
   "execution_count": null,
   "metadata": {},
   "outputs": [
    {
     "name": "stdout",
     "output_type": "stream",
     "text": [
      "Iteration   : 10\n",
      "Current cost: 135.6708\n",
      "--------------------------------------------------------\n",
      "Iteration   : 20\n",
      "Current cost: 130.8677\n",
      "--------------------------------------------------------\n",
      "Iteration   : 30\n",
      "Current cost: 131.4853\n",
      "--------------------------------------------------------\n"
     ]
    }
   ],
   "source": [
    "# tune parameters\n",
    "# in paper K=10000 U=50000 size_c=1000\n",
    "random.seed(420)\n",
    "start_time = timer(None)\n",
    "main(K=100, U=500, size_c=10)\n",
    "timer(start_time)"
   ]
  },
  {
   "cell_type": "code",
   "execution_count": null,
   "metadata": {},
   "outputs": [],
   "source": []
  },
  {
   "cell_type": "markdown",
   "metadata": {},
   "source": [
    "# Evaluation"
   ]
  },
  {
   "cell_type": "code",
   "execution_count": 11,
   "metadata": {},
   "outputs": [],
   "source": [
    "def evaluation(s,d):\n",
    "    store = [0, 1, 2, 3, 4, 5, 6]\n",
    "    routes = [(i, j) for i in store for j in store]\n",
    "\n",
    "    N = 7\n",
    "    h = np.array([1.0]*N)\n",
    "    c = np.ones((N, N))*0.5\n",
    "    np.fill_diagonal(c, 0)\n",
    "    p = np.array([4.0]*N)\n",
    "\n",
    "    # buile model\n",
    "    eva_model = pulp.LpProblem(\"Evaluate cost\", pulp.LpMinimize)\n",
    "\n",
    "    # set up variables\n",
    "    e = pulp.LpVariable.dicts(\"e\", store, 0, None, cat = pulp.LpInteger)\n",
    "    r = pulp.LpVariable.dicts(\"r\", store, 0, None, cat = pulp.LpInteger)\n",
    "    t = pulp.LpVariable.dicts(\"t\", (store, store), 0, None, cat = pulp.LpInteger)\n",
    "    f = pulp.LpVariable.dicts(\"f\", store, 0, None, cat = pulp.LpInteger)\n",
    "    q = pulp.LpVariable.dicts(\"q\", store, 0, None, cat = pulp.LpInteger)\n",
    "\n",
    "    # objective function\n",
    "    eva_model += (pulp.lpSum(\n",
    "        [h[i] * e[i] for i in store] +\n",
    "        [c[i][j] * t[i][j] for (i, j) in routes] + \n",
    "        [p[i] * r[i] for i in store]\n",
    "    ), \"Total_Cost\"\n",
    "    )\n",
    "\n",
    "    # constraints\n",
    "    for i in store:\n",
    "        for j in store:\n",
    "            if i != j:\n",
    "                eva_model += (pulp.lpSum(t[i][j]) + f[i] + e[i]  == s[i])\n",
    "                eva_model += (pulp.lpSum(t[j][i]) + f[i] + r[i]  == d[i])\n",
    "        eva_model += (pulp.lpSum(r[i] + q[i]) == pulp.lpSum(d[i]))\n",
    "        eva_model += (e[i] + q[i] == s[i])\n",
    "\n",
    "    # solver\n",
    "    eva_model.solve()\n",
    "    pulp.LpStatus[eva_model.status]\n",
    "    # return obj_value\n",
    "    obj_value = pulp.value(eva_model.objective)\n",
    "    return obj_value"
   ]
  },
  {
   "cell_type": "code",
   "execution_count": 12,
   "metadata": {},
   "outputs": [],
   "source": [
    "# plot evaluation\n",
    "def distribution(x):\n",
    "    plt.rcParams[\"figure.figsize\"] = (16, 5)\n",
    "    plt.hist(x, density=True, bins=50)\n",
    "    plt.ylabel('Probability', size=20)\n",
    "    plt.xlabel('Objective Value', size=20)"
   ]
  },
  {
   "cell_type": "code",
   "execution_count": 13,
   "metadata": {},
   "outputs": [],
   "source": [
    "# results of evaluation\n",
    "def distribution2(x):\n",
    "    print(f'Min:', round(min(x), 4))\n",
    "    print(f'Max:', round(max(x)), 4)\n",
    "    print(f'Median:', np.round(np.median(x), 4))\n",
    "    print(f'Mean:', np.round(np.mean(x)), 4)\n",
    "    ci = st.t.interval(alpha=0.95, df=len(x)-1, loc=np.mean(x), scale=sem(x))\n",
    "    ci2 = [ci[0], ci[1]]\n",
    "    print(f'95% Confidence Interval:', np.round(ci2, 4))"
   ]
  },
  {
   "cell_type": "markdown",
   "metadata": {},
   "source": [
    "## evaluation for AiO"
   ]
  },
  {
   "cell_type": "code",
   "execution_count": 14,
   "metadata": {},
   "outputs": [
    {
     "name": "stderr",
     "output_type": "stream",
     "text": [
      "C:\\Users\\surface\\AppData\\Local\\Continuum\\anaconda3\\lib\\site-packages\\pulp\\pulp.py:1352: UserWarning: Spaces are not permitted in the name. Converted to '_'\n",
      "  warnings.warn(\"Spaces are not permitted in the name. Converted to '_'\")\n"
     ]
    }
   ],
   "source": [
    "mu = np.array([100, 200, 150, 170, 180, 170, 170])\n",
    "std = np.array([20, 50, 30, 50, 40, 30, 50])\n",
    "obj = []\n",
    "s = [105, 208, 158, 180, 188, 173, 180]\n",
    "U = 1000\n",
    "for _ in range(U):\n",
    "    D, prob = variables_random(mu, std)\n",
    "    obj_value = evaluation(s,D)\n",
    "    obj.append(obj_value)"
   ]
  },
  {
   "cell_type": "code",
   "execution_count": 15,
   "metadata": {
    "scrolled": true
   },
   "outputs": [
    {
     "data": {
      "image/png": "[encoded data removed]",
      "text/plain": [
       "<Figure size 1152x360 with 1 Axes>"
      ]
     },
     "metadata": {
      "needs_background": "light"
     },
     "output_type": "display_data"
    }
   ],
   "source": [
    "distribution(obj)"
   ]
  },
  {
   "cell_type": "code",
   "execution_count": 16,
   "metadata": {},
   "outputs": [
    {
     "name": "stdout",
     "output_type": "stream",
     "text": [
      "Min: 51.7363\n",
      "Max: 1151 4\n",
      "Median: 442.0724\n",
      "Mean: 469.0 4\n",
      "95% Confidence Interval: [457.7033 481.0499]\n"
     ]
    }
   ],
   "source": [
    "distribution2(obj)"
   ]
  },
  {
   "cell_type": "markdown",
   "metadata": {},
   "source": [
    "## evaluation for SA"
   ]
  },
  {
   "cell_type": "code",
   "execution_count": null,
   "metadata": {},
   "outputs": [],
   "source": [
    "obj = []\n",
    "S = [106, 206, 156, 176, 186, 176, 176]\n",
    "for _ in range(U):\n",
    "        D, prob = variables_random(mu, std)\n",
    "        obj_value = evaluation(S,D)\n",
    "        obj.append(obj_value)"
   ]
  },
  {
   "cell_type": "code",
   "execution_count": null,
   "metadata": {},
   "outputs": [],
   "source": [
    "distribution(obj)"
   ]
  },
  {
   "cell_type": "code",
   "execution_count": null,
   "metadata": {},
   "outputs": [],
   "source": [
    "distribution2(obj)"
   ]
  },
  {
   "cell_type": "markdown",
   "metadata": {},
   "source": [
    "# Creative - Early Stopping & Visualization"
   ]
  },
  {
   "cell_type": "code",
   "execution_count": null,
   "metadata": {},
   "outputs": [],
   "source": [
    "def main(K, U, size_c, early_stopping=10):\n",
    "\n",
    "    # determined variables\n",
    "    N, S0, h, c, C, p, mu, std, log = variables_determined()\n",
    "\n",
    "    # store cost for early stopping use and visualization\n",
    "    cost = []\n",
    "    S_list = []\n",
    "\n",
    "     # store init value\n",
    "    _, expected_h0 = get_averaged_dtc(S0, U)\n",
    "    first_obj_value0 = round(np.sum(c*S0) + expected_h0, 4)\n",
    "    cost.append(first_obj_value0)\n",
    "    S_list.append(S0)\n",
    "    print(f'Iteration   :', 0)\n",
    "    print(f'Current cost:', first_obj_value0)\n",
    "    print('--------------------------------------------------------')\n",
    "\n",
    "    # initialize K\n",
    "    k = 1\n",
    "    # initialize order-up-to S\n",
    "    S = S0\n",
    "\n",
    "    while k <= K:\n",
    "        subgradient, expected_h = get_averaged_dtc(S, U)\n",
    "        # update order-up-to S\n",
    "        step_wise = size_c / k\n",
    "        S = S - step_wise*subgradient\n",
    "        # project between lower and upper bound\n",
    "        S = projection(S)\n",
    "        S_list.append(S)\n",
    "\n",
    "        # first stage optimal cost: replenishment cost and second stage cost\n",
    "        first_obj_value = round(np.sum(c*S) + expected_h, 4)\n",
    "        cost.append(first_obj_value)\n",
    "\n",
    "        # log process\n",
    "        if log and k % 10 == 0:\n",
    "            print(f'Iteration   :', k)\n",
    "            # print(f'Current second stage expected cost: ', expected_h)\n",
    "            print(f'Current cost:', first_obj_value)\n",
    "            # print(f'Lowest cost :', first_obj_best)\n",
    "            print('--------------------------------------------------------')\n",
    "\n",
    "        ##### early-stopping #####\n",
    "        if early_stopping:\n",
    "            if k > early_stopping and all(cost[-(early_stopping+1)] < cost[-early_stopping:]):\n",
    "                first_obj_value = cost[-(early_stopping+1)]\n",
    "                S = S_list[-(early_stopping+1)]\n",
    "                break\n",
    "\n",
    "        k += 1\n",
    "    \n",
    "    print(f'Final objective value: ', first_obj_value)\n",
    "    print(f'Final order-up-to S:   ', np.round(S, 4))\n",
    "      \n",
    "    return cost, first_obj_value"
   ]
  },
  {
   "cell_type": "code",
   "execution_count": null,
   "metadata": {},
   "outputs": [],
   "source": [
    "def plot_cost(y_value, first_obj_value):\n",
    "    plt.rcParams[\"figure.figsize\"] = (16, 5)\n",
    "    x_index = y_value.index(first_obj_value)\n",
    "    plt.plot([i for i in range(len(y_value))], y_value)\n",
    "    plt.plot(x_index, first_obj_value, 'ro')\n",
    "    plt.text(x_index - 1, first_obj_value + 10, 'Early-stopping point', c='r', size=15)\n",
    "    plt.xlabel('Iteration', size=20)\n",
    "    plt.ylabel('Total Cost', size=20)"
   ]
  },
  {
   "cell_type": "code",
   "execution_count": null,
   "metadata": {},
   "outputs": [],
   "source": [
    "random.seed(420)\n",
    "start_time = timer(None)\n",
    "cost, first_obj_value = main(K=200, U=500, size_c=1, early_stopping=None)\n",
    "timer(start_time)"
   ]
  },
  {
   "cell_type": "code",
   "execution_count": null,
   "metadata": {},
   "outputs": [],
   "source": [
    "plot_cost(cost, first_obj_value)"
   ]
  },
  {
   "cell_type": "code",
   "execution_count": null,
   "metadata": {},
   "outputs": [],
   "source": [
    "random.seed(420)\n",
    "start_time = timer(None)\n",
    "cost2, first_obj_value2 = main(K=200, U=500, size_c=1)\n",
    "timer(start_time)"
   ]
  },
  {
   "cell_type": "code",
   "execution_count": null,
   "metadata": {},
   "outputs": [],
   "source": [
    "plot_cost(cost2, first_obj_value2)"
   ]
  },
  {
   "cell_type": "markdown",
   "metadata": {},
   "source": [
    "# Creative - GD with momentum"
   ]
  },
  {
   "cell_type": "code",
   "execution_count": null,
   "metadata": {},
   "outputs": [],
   "source": [
    "def main(K, U, size_c, beta, early_stopping=10):\n",
    "\n",
    "    # determined variables\n",
    "    N, S0, h, c, C, p, mu, std, log = variables_determined()\n",
    "\n",
    "    # store cost for early stopping use and visualization\n",
    "    cost = []\n",
    "    S_list = []\n",
    "\n",
    "     # store init value\n",
    "    subgradient0, expected_h0 = get_averaged_dtc(S0, U)\n",
    "    first_obj_value0 = round(np.sum(c*S0) + expected_h0, 4)\n",
    "    cost.append(first_obj_value0)\n",
    "    S_list.append(S0)\n",
    "    print(f'Iteration   :', 0)\n",
    "    print(f'Current cost:', first_obj_value0)\n",
    "    print('--------------------------------------------------------')\n",
    "\n",
    "    # initialize K\n",
    "    k = 1\n",
    "    # initialize order-up-to S\n",
    "    S = S0\n",
    "    # initialize velocity\n",
    "    V = subgradient0\n",
    "\n",
    "    while k <= K:\n",
    "        subgradient, expected_h = get_averaged_dtc(S, U)\n",
    "        # update order-up-to S\n",
    "        step_wise = size_c / k\n",
    "        ##### GD with momentum #####\n",
    "        V = beta * V + (1-beta) * subgradient\n",
    "        S = S - step_wise*V\n",
    "        # project between lower and upper bound\n",
    "        S = projection(S)\n",
    "        S_list.append(S)\n",
    "\n",
    "        # first stage optimal cost: replenishment cost and second stage cost\n",
    "        first_obj_value = round(np.sum(c*S) + expected_h, 4)\n",
    "        cost.append(first_obj_value)\n",
    "\n",
    "        # log process\n",
    "        if log and k % 10 == 0:\n",
    "            print(f'Iteration   :', k)\n",
    "            # print(f'Current second stage expected cost: ', expected_h)\n",
    "            print(f'Current cost:', first_obj_value)\n",
    "            # print(f'Lowest cost :', first_obj_best)\n",
    "            print('--------------------------------------------------------')\n",
    "\n",
    "        # early-stopping\n",
    "        if k > early_stopping and all(cost[-(early_stopping+1)] < cost[-early_stopping:]):\n",
    "            first_obj_value = cost[-(early_stopping+1)]\n",
    "            S = S_list[-(early_stopping+1)]\n",
    "            break\n",
    "\n",
    "        k += 1\n",
    "    \n",
    "    print(f'Final objective value: ', first_obj_value)\n",
    "    print(f'Final order-up-to S:   ', np.round(S, 4))\n",
    "      \n",
    "    return cost, first_obj_value"
   ]
  },
  {
   "cell_type": "code",
   "execution_count": null,
   "metadata": {},
   "outputs": [],
   "source": [
    "random.seed(420)\n",
    "start_time = timer(None)\n",
    "timer(start_time)\n",
    "cost, first_obj_value = main(K=100, U=500, size_c=10, beta=0.9)\n",
    "timer(start_time)"
   ]
  },
  {
   "cell_type": "code",
   "execution_count": null,
   "metadata": {},
   "outputs": [],
   "source": [
    "plot_cost(cost, first_obj_value)\n",
    "# too smooth, the result is awful"
   ]
  },
  {
   "cell_type": "code",
   "execution_count": null,
   "metadata": {},
   "outputs": [],
   "source": [
    "random.seed(420)\n",
    "start_time = timer(None)\n",
    "timer(start_time)\n",
    "cost, first_obj_value = main(K=200, U=500, size_c=1, beta=0.5)\n",
    "timer(start_time)"
   ]
  },
  {
   "cell_type": "code",
   "execution_count": null,
   "metadata": {},
   "outputs": [],
   "source": [
    "plot_cost(cost, first_obj_value)\n",
    "# less smooth, but still not good"
   ]
  }
 ],
 "metadata": {
  "kernelspec": {
   "display_name": "Python 3",
   "language": "python",
   "name": "python3"
  },
  "language_info": {
   "codemirror_mode": {
    "name": "ipython",
    "version": 3
   },
   "file_extension": ".py",
   "mimetype": "text/x-python",
   "name": "python",
   "nbconvert_exporter": "python",
   "pygments_lexer": "ipython3",
   "version": "3.7.0"
  },
  "toc": {
   "base_numbering": 1,
   "nav_menu": {},
   "number_sections": true,
   "sideBar": true,
   "skip_h1_title": false,
   "title_cell": "Table of Contents",
   "title_sidebar": "Contents",
   "toc_cell": false,
   "toc_position": {},
   "toc_section_display": true,
   "toc_window_display": false
  }
 },
 "nbformat": 4,
 "nbformat_minor": 2
}
